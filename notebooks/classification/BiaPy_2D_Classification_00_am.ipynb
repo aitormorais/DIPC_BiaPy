{
  "cells": [
    {
      "cell_type": "markdown",
      "source": [
        "# **2D Classification pipeline**\n",
        "___  \n",
        "  \n",
        "In this notebook we show how to apply a [BiaPy](https://biapy.readthedocs.io/en/latest/) pipeline for **2D classification** of microscopy data.\n",
        "\n",
        "<figure>\n",
        "<center>\n",
        "<img src='https://biapy.readthedocs.io/en/latest/_images/MedMNIST_DermaMNIST_test1008_0.png' width='50px'/>\n",
        "<img src='https://biapy.readthedocs.io/en/latest/_images/MedMNIST_DermaMNIST_test10_1.png' width='50px'/>\n",
        "<img src='https://biapy.readthedocs.io/en/latest/_images/MedMNIST_DermaMNIST_test1002_2.png' width='50px'/>\n",
        "<img src='https://biapy.readthedocs.io/en/latest/_images/MedMNIST_DermaMNIST_test1030_3.png' width='50px'/>\n",
        "<img src='https://biapy.readthedocs.io/en/latest/_images/MedMNIST_DermaMNIST_test1003_4.png' width='50px'/>\n",
        "<img src='https://biapy.readthedocs.io/en/latest/_images/MedMNIST_DermaMNIST_test0_5.png' width='50px'/>\n",
        "<img src='https://biapy.readthedocs.io/en/latest/_images/MedMNIST_DermaMNIST_test1021_6.png' width='50px'/>\n",
        "<figcaption><b>Figure 1</b>: Example of a 2D classification problem. These examples belong to various classes and were sourced from  <a href=\"https://medmnist.com/\">MedMNIST v2</a>, specifically from the DermaMNIST dataset which is a large collection of multi-source dermatoscopic images of common pigmented skin lesions.</figcaption></center>\n",
        "</figure>\n",
        "\n",
        "**Without any coding**, we explain step by step how to\n",
        "1. **upload a set of training and test images** which need to be organized in folders, one for each class,\n",
        "2. **train a deep neural network (DNN)** model on the training set,\n",
        "3. **apply the model** to the test images, and\n",
        "4. **download the classification results** to your local machine.\n",
        "\n",
        "**Disclaimer:** The structure of the notebook is heavily inspired in the fantastic [ZeroCostDL4Mic notebooks](https://github.com/HenriquesLab/ZeroCostDL4Mic/wiki).\n",
        "\n",
        "**Contact:** This notebook has been made by [Ignacio Arganda-Carreras](mailto:ignacio.arganda@ehu.eus) and [Daniel Franco-Barranco](mailto:daniel.franco@dipc.org). If you have any suggestion or comment, or find any problem, please write us an email or [create an issue in BiaPy's repository](https://github.com/danifranco/BiaPy/issues). Thanks!"
      ],
      "metadata": {
        "id": "kcAryclxsQJ5"
      }
    },
    {
      "cell_type": "markdown",
      "source": [
        "## **Expected inputs and outputs**\n",
        "___\n",
        "**Inputs**\n",
        "\n",
        "This notebook expects three folders as input:\n",
        "* **Training raw images**: with the raw 2D images to train the model.\n",
        "* **Test raw images**: with the raw 2D images to test the model.\n",
        "* **Output folder**: a path to store the classification results.\n",
        "\n",
        "**Outputs**\n",
        "\n",
        "If the execution is successful, a folder will be created containing the classification results. The resulting csv file can be downloaded at the end of the notebook.\n",
        "\n",
        "<font color='red'><b>Note</b></font>: for testing purposes, you can also run this notebook with the **example datasets provided in 'Manage file(s) source > Option 3**.\n",
        "\n",
        "\n",
        "\n",
        "\n"
      ],
      "metadata": {
        "id": "hG5ClE_HHQaE"
      }
    },
    {
      "cell_type": "markdown",
      "metadata": {
        "id": "xGSj0DrpUJoY"
      },
      "source": [
        "## **Prepare the environment**\n",
        "___\n",
        "\n",
        "Establish connection with Google services. You **must be logged in to Google** to continue.\n",
        "Since this is not Google's own code, you will probably see a message warning you of the dangers of running unfamiliar code. This is completely normal.\n"
      ]
    },
    {
      "cell_type": "markdown",
      "metadata": {
        "id": "XZmI9c09OhSo"
      },
      "source": [
        "## **Manage file(s) source**\n",
        "---\n",
        "The input folder can be provided using three different options: by directly uploading the folder (option 1), by using a folder stored in Google Drive (option 2) or by using a few samples of our data (option 3).\n",
        "\n",
        "Depending on the option chosen, different steps will have to be taken, as explained in the following cells.\n"
      ]
    },
    {
      "cell_type": "markdown",
      "metadata": {
        "id": "GPksHcHLO0SU"
      },
      "source": [
        "### **Option 1: use your local files and upload them to the notebook**\n",
        "---\n",
        "You will be prompted to upload your files to Colab and they will be stored under `/content/input/`. The file uploaded need to be a ZIP file containing train, val (if used) and test folders."
      ]
    },
    {
      "cell_type": "code",
      "execution_count": null,
      "metadata": {
        "id": "xGS5LCaHPWR8"
      },
      "outputs": [],
      "source": [
        "#@markdown ##Play the cell to upload local files in a .zip file (train raw images)\n",
        "from google.colab import files\n",
        "!mkdir -p /content/input/train/\n",
        "%cd /content/input/train/\n",
        "uploaded = files.upload()\n",
        "filename = list(uploaded.keys())[0]\n",
        "if not filename.endswith('.zip'):\n",
        "    raise ValueError(\"{} file uploaded has not .zip extension\".format(filename))\n",
        "!unzip -q {filename}\n",
        "%cd /content"
      ]
    },
    {
      "cell_type": "markdown",
      "metadata": {
        "id": "nLXGd55gUYjK"
      },
      "source": [
        "### **Option 2: mount your Google Drive**\n",
        "---\n",
        "To use this notebook on your own data from Google Drive, you need to mount Google Drive first.\n",
        "\n",
        "Play the cell below to mount your Google Drive and follow the link that will be shown. In the new browser window, select your drive and select 'Allow', copy the code, paste into the cell and press enter. This will give Colab access to the data on the drive.\n",
        "\n",
        "Once this is done, your data are available in the **Files** tab on the top left of notebook."
      ]
    },
    {
      "cell_type": "code",
      "execution_count": null,
      "metadata": {
        "id": "h-yXrZLdUk3Z"
      },
      "outputs": [],
      "source": [
        "#@markdown ##Play the cell to connect your Google Drive to Colab\n",
        "\n",
        "#@markdown * Click on the URL.\n",
        "\n",
        "#@markdown * Sign in your Google Account.\n",
        "\n",
        "#@markdown * Copy the authorization code.\n",
        "\n",
        "#@markdown * Enter the authorization code.\n",
        "\n",
        "#@markdown * Click on \"Files\" site on the right. Refresh the site. Your Google Drive folder should now be available here as \"drive\".\n",
        "\n",
        "# mount user's Google Drive to Google Colab.\n",
        "from google.colab import drive\n",
        "drive.mount('/content/gdrive')"
      ]
    },
    {
      "cell_type": "markdown",
      "source": [
        "### **Option 3: download an example dataset**\n",
        "---\n",
        "If you do not have data at hand but would like to test the notebook, no worries! You can run the following cell to download an example dataset.\n",
        "\n",
        "In particular, we will use a particular subset of [MedMNIST v2](https://medmnist.com/\") dataset, concretely DermaMNIST dataset publicly available online."
      ],
      "metadata": {
        "id": "u9FcxFB3H7az"
      }
    },
    {
      "cell_type": "code",
      "source": [
        "#@markdown ##Play to download an example dataset\n",
        "\n",
        "import os\n",
        "\n",
        "os.chdir('/content/')\n",
        "\n",
        "!curl -L -s -o DermaMNIST.zip 'https://drive.google.com/uc?id=15_pnH4_tJcwhOhNqFsm26NQuJbNbFSIN&confirm=t'\n",
        "\n",
        "!unzip -q DermaMNIST.zip\n",
        "!rm DermaMNIST.zip\n",
        "\n",
        "print('Dataset downloaded and unzipped under /content/data')\n"
      ],
      "metadata": {
        "id": "pD3aoo-ZUtW4",
        "colab": {
          "base_uri": "https://localhost:8080/"
        },
        "outputId": "21be40a7-6d83-47ef-dfbb-7447691e5214"
      },
      "execution_count": null,
      "outputs": [
        {
          "output_type": "stream",
          "name": "stdout",
          "text": [
            "Dataset downloaded and unzipped under /content/data\n"
          ]
        }
      ]
    },
    {
      "cell_type": "markdown",
      "metadata": {
        "id": "4bj_sbDFTiZ7"
      },
      "source": [
        "\n",
        "## **Check for GPU access**\n",
        "---\n",
        "\n",
        "By default, the session should be using Python 3 and GPU acceleration, but it is possible to ensure that these are set properly by doing the following:\n",
        "\n",
        "Go to **Runtime -> Change the Runtime type**\n",
        "\n",
        "**Runtime type: Python 3** *(Python 3 is programming language in which this program is written)*\n",
        "\n",
        "**Accelerator: GPU** *(Graphics processing unit)*"
      ]
    },
    {
      "cell_type": "markdown",
      "metadata": {
        "id": "FEv7FBXFQvjv"
      },
      "source": [
        "## **Paths to load input images and save output files**\n",
        "___\n",
        "\n",
        "If option 1 (uploading the folder) or option 3 (downloading our prepared data samples) were chosen, define train_data_path as '/content/data/train', val_data_path as '/content/data/val' (if not using validation from train which can be ignored if so), test_data_path as '/content/data/test' and output_path as '/content/out'. Please make sure you download the results from the '/content/out' folder later!\n",
        "\n",
        "If option 2 is chosen, introduce here the paths to your input files and to the folder where you want to store the results. E.g. '/content/gdrive/MyDrive/...'.\n",
        "\n",
        "In case you have troubles finding the path to your folders, at the top left of this notebook you will find a small folder icon. Explore until you find the folders. There you can copy the folder path by right clicking and clicking \"copy\"."
      ]
    },
    {
      "cell_type": "code",
      "execution_count": null,
      "metadata": {
        "id": "vl4e0UIGYZcx"
      },
      "outputs": [],
      "source": [
        "#@markdown #####Path to train images\n",
        "train_data_path = '/content/data/train' #@param {type:\"string\"}\n",
        "#@markdown #####Path to validation images (necessary only if you do not want to extract validation from train, i.e. when **validation_from_train** variable below is **False**)\n",
        "val_data_path = '/content/data/validation' #@param {type:\"string\"}\n",
        "#@markdown #####Path to test images\n",
        "test_data_path = '/content/data/test' #@param {type:\"string\"}\n",
        "#@markdown #####Path to store the resulting images (it'll be created if not existing):\n",
        "output_path = '/content/output' #@param {type:\"string\"}"
      ]
    },
    {
      "cell_type": "markdown",
      "metadata": {
        "id": "jLYsqrDALpVN"
      },
      "source": [
        "## **Install BiaPy library**\n"
      ]
    },
    {
      "cell_type": "code",
      "execution_count": null,
      "metadata": {
        "colab": {
          "base_uri": "https://localhost:8080/"
        },
        "outputId": "f5481195-4dad-4ef0-e3d5-27d1c9bca0a9",
        "id": "p33UIUUWLm3V"
      },
      "outputs": [
        {
          "output_type": "stream",
          "name": "stdout",
          "text": [
            "Cloning into 'BiaPy'...\n",
            "remote: Enumerating objects: 157, done.\u001b[K\n",
            "remote: Counting objects: 100% (157/157), done.\u001b[K\n",
            "remote: Compressing objects: 100% (139/139), done.\u001b[K\n",
            "remote: Total 157 (delta 43), reused 68 (delta 15), pack-reused 0\u001b[K\n",
            "Receiving objects: 100% (157/157), 26.34 MiB | 17.38 MiB/s, done.\n",
            "Resolving deltas: 100% (43/43), done.\n"
          ]
        }
      ],
      "source": [
        "#@markdown ##Play to install BiaPy and its dependences\n",
        "\n",
        "import os\n",
        "import sys\n",
        "import numpy as np\n",
        "from tqdm.notebook import tqdm\n",
        "from skimage.io import imread\n",
        "from skimage.exposure import match_histograms\n",
        "\n",
        "# Clone the repo\n",
        "os.chdir('/content/')\n",
        "if not os.path.exists('BiaPy'):\n",
        "    !git clone --depth 1 https://github.com/danifranco/BiaPy.git\n",
        "    !pip install --upgrade --no-cache-dir gdown &> /dev/null\n",
        "    sys.path.insert(0, 'BiaPy')\n",
        "    os.chdir('/content/BiaPy')\n",
        "\n",
        "    # Install dependencies\n",
        "    !pip install git+https://github.com/aleju/imgaug.git &> /dev/null\n",
        "    !pip install numpy_indexed yacs fill_voids edt &> /dev/null\n",
        "else:\n",
        "    print( 'Using existing installed version of BiaPy' )"
      ]
    },
    {
      "cell_type": "markdown",
      "metadata": {
        "id": "9ZwoZC20rK42"
      },
      "source": [
        "## **Configure and train the DNN model**\n",
        "[BiaPy](https://biapy.readthedocs.io/en/latest/) contains a few deep learning models to perform classification.\n",
        "\n",
        "The selection of the model and the pipeline hyperparameters can be configured by editing the YAML configuration file or (easier) by running the next cell.\n",
        "\n"
      ]
    },
    {
      "cell_type": "markdown",
      "source": [
        "### **Select your parameters**\n",
        "---\n",
        "#### **Name of the model**\n",
        "* **`model_name`:** Use only my_model -style, not my-model (Use \"_\" not \"-\"). Do not use spaces in the name. Avoid using the name of an existing model (saved in the same folder) as it will be overwritten.\n",
        "\n",
        "#### **Data management**\n",
        "\n",
        "* **`validation_from_train`:** Select to extract validation data from the training samples. If is not selected the validation data path must be set in **val_data_path** variable above.\n",
        "\n",
        "* **`percentage_validation`:**  Input the percentage of your training dataset you want to use to validate the network during the training. **Default value: 10**\n",
        "\n",
        "* **`test_ground_truth`:** Select to use test data folder order as the ground truth class to measure the performance of the model's result. **Default value: True**\n",
        "\n",
        "#### **Basic training parameters**\n",
        "* **`number_of_classes`:** Input number of classes present in the problem. It must be equal to the number of subfolders in training and validation (if not extracted from train) folders.\n",
        "\n",
        "* **`number_of_epochs`:** Input how many epochs (rounds) the network will be trained. For the example dataset, reasonable results can already be observed after 100 epochs. **Default value: 100**\n",
        "\n",
        "* **`patience`:**  Input how many epochs you want to wait without the model improving its results in the validation set to stop training. **Default value: 20**\n",
        "\n",
        "#### **Advanced Parameters - experienced users only**\n",
        "* **`model_architecture`:**  Select the architecture of the DNN used as backbone of the pipeline. Options: EfficientNet B0 and a simple CNN. **Default value: EfficientNet B0**\n",
        "\n",
        "* **`batch_size:`** This parameter defines the number of patches seen in each training step. Reducing or increasing the **batch size** may slow or speed up your training, respectively, and can influence network performance. **Default value: 12**\n",
        "\n",
        "* **`patch_size`:** Input the size of the patches use to train your model (length in pixels in X and Y). The value should be smaller or equal to the dimensions of the image. **Default value: 28**\n",
        "\n",
        "* **`input_channels`:** Input the number of channels of your images (grayscale = 1, RGB = 3). **Default value: 3**\n",
        "\n",
        "* **`optimizer`:** Select the optimizer used to train your model. Options: ADAM, Stocastic Gradient Descent (SGD). ADAM converges usually faster but SGD is known for better generalization. **Default value: SGD**\n",
        "\n",
        "* **`initial_learning_rate`:** Input the initial value to be used as learning rate. If you select ADAM as optimizer, this value should be around 10e-4. **Default value: 0.001**"
      ],
      "metadata": {
        "id": "cfUyeHEP4vY3"
      }
    },
    {
      "cell_type": "code",
      "source": [
        "###Name of the model:\n",
        "model_name = \"my_2d_classification_VIT\" #@param {type:\"string\"}\n",
        "\n",
        "### Data management:\n",
        "validation_from_train = False #@param {type:\"boolean\"}\n",
        "percentage_validation =  10 #@param {type:\"number\"}\n",
        "test_ground_truth = False #@param {type:\"boolean\"}\n",
        "\n",
        "### Basic training parameters:\n",
        "number_of_classes = 7#@param {type:\"number\"}\n",
        "number_of_epochs =  10#@param {type:\"number\"}\n",
        "patience =  6#@param {type:\"number\"}\n",
        "\n",
        "### Advanced training parameters:\n",
        "\n",
        "model_architecture = \"ViT\" #@param [\"EfficientNetB0\", \"simple_cnn\",\"ViT\"]\n",
        "\n",
        "batch_size =  12#@param {type:\"number\"}\n",
        "patch_size = 28 #@param {type:\"number\"}\n",
        "\n",
        "input_channels = 3 #@param {type:\"number\"}\n",
        "\n",
        "optimizer = \"ADAMW\" #@param [\"ADAM\", \"SGD\",\"ADAMW\"]\n",
        "initial_learning_rate = 0.001 #@param {type:\"number\"}\n",
        "\n",
        "### ViT specific parameters:\n",
        "#@markdown When 'ViT' is selected in 'model_architecture', please specify the following parameters:\n",
        "\n",
        "ViT_token_size = 16 #@param {type:\"number\"}\n",
        "ViT_hidden_size = 768 #@param {type:\"number\"}\n",
        "ViT_num_layers = 12 #@param {type:\"number\"}\n",
        "ViT_num_heads = 12 #@param {type:\"number\"}\n",
        "ViT_mlp_dims = 3072 #@param {type:\"number\"}"
      ],
      "metadata": {
        "id": "RLdMygZVT5aH"
      },
      "execution_count": 45,
      "outputs": []
    },
    {
      "cell_type": "code",
      "source": [
        "reducir = \"reduceonplateau\""
      ],
      "metadata": {
        "id": "qGq6Uvwdm_oU"
      },
      "execution_count": null,
      "outputs": []
    },
    {
      "cell_type": "code",
      "source": [
        "#@markdown ##Play to download the YAML configuration file and update it to train the model\n",
        "import errno\n",
        "\n",
        "os.chdir('/content/')\n",
        "\n",
        "job_name = model_name\n",
        "yaml_file = \"/content/\"+str(job_name)+\".yaml\"\n",
        "\n",
        "# remove previous configuration file if it exists with the same name\n",
        "if os.path.exists( yaml_file ):\n",
        "    os.remove( yaml_file )\n",
        "\n",
        "# Download template file\n",
        "import shutil\n",
        "shutil.copy(\"/content/BiaPy/templates/classification/classification_2d.yaml\", yaml_file)\n",
        "\n",
        "# Check folders before modifying the .yaml file\n",
        "if not os.path.exists(train_data_path):\n",
        "    raise FileNotFoundError(errno.ENOENT, os.strerror(errno.ENOENT), train_data_path)\n",
        "ids = sorted(next(os.walk(train_data_path))[1])\n",
        "if len(ids) == 0:\n",
        "    raise ValueError(\"No folders found in dir {}\".format(train_data_path))\n",
        "\n",
        "if not os.path.exists(val_data_path):\n",
        "    raise FileNotFoundError(errno.ENOENT, os.strerror(errno.ENOENT), val_data_path)\n",
        "ids = sorted(next(os.walk(val_data_path))[1])\n",
        "if len(ids) == 0:\n",
        "    raise ValueError(\"No folders found in dir {}\".format(val_data_path))\n",
        "\n",
        "if not os.path.exists(test_data_path):\n",
        "    raise FileNotFoundError(errno.ENOENT, os.strerror(errno.ENOENT), test_data_path)\n",
        "ids = sorted(next(os.walk(test_data_path))[1])\n",
        "if len(ids) == 0:\n",
        "    raise ValueError(\"No folders found in dir {}\".format(test_data_path))\n",
        "\n",
        "\n",
        "# open template configuration file\n",
        "import yaml\n",
        "with open( yaml_file, 'r') as stream:\n",
        "    try:\n",
        "        biapy_config = yaml.safe_load(stream)\n",
        "    except yaml.YAMLError as exc:\n",
        "        print(exc)\n",
        "\n",
        "# update paths to data\n",
        "#DATA.NORMALIZATION.TYPE\n",
        "\n",
        "\n",
        "biapy_config['DATA']['TRAIN']['PATH'] = train_data_path\n",
        "biapy_config['DATA']['VAL']['PATH'] = val_data_path\n",
        "biapy_config['DATA']['TEST']['PATH'] = test_data_path\n",
        "biapy_config['DATA']['TEST']['LOAD_GT'] = test_ground_truth\n",
        "\n",
        "# update data patch size\n",
        "biapy_config['DATA']['PATCH_SIZE'] = '('+str(patch_size)+', '+ str(patch_size)+', ' + str(input_channels)+')'\n",
        "# adjust test padding accordingly\n",
        "padding = patch_size // 8\n",
        "biapy_config['DATA']['TEST']['PADDING'] = '('+str(padding)+', '+ str(padding)+')'\n",
        "\n",
        "# update training parameters\n",
        "biapy_config['DATA']['VAL']['FROM_TRAIN'] = validation_from_train\n",
        "biapy_config['DATA']['VAL']['SPLIT_TRAIN'] = percentage_validation/100.0\n",
        "biapy_config['TRAIN']['EPOCHS'] = number_of_epochs\n",
        "biapy_config['TRAIN']['PATIENCE'] = patience\n",
        "biapy_config['TRAIN']['BATCH_SIZE'] = batch_size\n",
        "biapy_config['TRAIN']['OPTIMIZER'] = optimizer\n",
        "biapy_config['TRAIN']['LR'] = initial_learning_rate\n",
        "\n",
        "# Transcribe model architecture\n",
        "# Available models: \"simple_cnn\", \"EfficientNetB0\"\n",
        "architecture = \"simple_cnn\"\n",
        "if model_architecture == \"simple_cnn\":\n",
        "    architecture = 'simple_cnn'\n",
        "if model_architecture == \"ViT\":\n",
        "    architecture = 'ViT'\n",
        "    biapy_config['MODEL']['VIT_TOKEN_SIZE'] = 16\n",
        "    biapy_config['MODEL']['VIT_HIDDEN_SIZE'] = 768\n",
        "    biapy_config['MODEL']['VIT_NUM_LAYERS'] = 12\n",
        "    biapy_config['MODEL']['VIT_NUM_HEADS'] = 12\n",
        "    biapy_config['MODEL']['VIT_MLP_DIMS'] = 3072\n",
        "else:\n",
        "    architecture = 'EfficientNetB0'\n",
        "biapy_config['MODEL']['N_CLASSES'] = number_of_classes\n",
        "biapy_config['MODEL']['ARCHITECTURE'] = architecture\n",
        "biapy_config['MODEL']['SPATIAL_DROPOUT'] =  True\n",
        "\n",
        "# save file\n",
        "with open( yaml_file, 'w') as outfile:\n",
        "    yaml.dump(biapy_config, outfile, default_flow_style=False)\n",
        "\n",
        "print( \"Training configuration finished.\")"
      ],
      "metadata": {
        "id": "kAMzWWGuhHcv",
        "colab": {
          "base_uri": "https://localhost:8080/"
        },
        "outputId": "5b42d165-b864-4925-de50-20b9edbc39af"
      },
      "execution_count": 47,
      "outputs": [
        {
          "output_type": "stream",
          "name": "stdout",
          "text": [
            "Training configuration finished.\n"
          ]
        }
      ]
    },
    {
      "cell_type": "markdown",
      "source": [
        "### **Train the model**\n",
        "---"
      ],
      "metadata": {
        "id": "oDNWZYlu4zSG"
      }
    },
    {
      "cell_type": "code",
      "execution_count": null,
      "metadata": {
        "id": "CZKK9EoVmH-Y",
        "colab": {
          "base_uri": "https://localhost:8080/"
        },
        "outputId": "a0c1a22f-c06b-4090-db9a-b39dde10b800"
      },
      "outputs": [
        {
          "output_type": "stream",
          "name": "stdout",
          "text": [
            "Date: 2023-07-20 13:43:13\n",
            "Arguments: Namespace(config='/content/my_2d_classification_VIT.yaml', result_dir='/content/output', name='my_2d_classification_VIT', run_id=1, gpu='0')\n",
            "Job: my_2d_classification_VIT_1\n",
            "Python       : 3.10.6 (main, May 29 2023, 11:10:38) [GCC 11.3.0]\n",
            "Keras        : 2.12.0\n",
            "Tensorflow   : 2.12.0\n",
            "Num GPUs Available:  0\n",
            "Configuration details:\n",
            "AUGMENTOR:\n",
            "  AFFINE_MODE: constant\n",
            "  AUG_NUM_SAMPLES: 10\n",
            "  AUG_SAMPLES: True\n",
            "  BRIGHTNESS: False\n",
            "  BRIGHTNESS_EM: False\n",
            "  BRIGHTNESS_EM_FACTOR: (-0.1, 0.1)\n",
            "  BRIGHTNESS_EM_MODE: 3D\n",
            "  BRIGHTNESS_FACTOR: (-0.1, 0.1)\n",
            "  BRIGHTNESS_MODE: 3D\n",
            "  CBLUR_DOWN_RANGE: (2, 8)\n",
            "  CBLUR_INSIDE: True\n",
            "  CBLUR_SIZE: (0.2, 0.4)\n",
            "  CHANNEL_SHUFFLE: False\n",
            "  CMIX_SIZE: (0.2, 0.4)\n",
            "  CNOISE_NB_ITERATIONS: (1, 3)\n",
            "  CNOISE_SCALE: (0.05, 0.1)\n",
            "  CNOISE_SIZE: (0.2, 0.4)\n",
            "  CONTRAST: False\n",
            "  CONTRAST_EM: False\n",
            "  CONTRAST_EM_FACTOR: (-0.1, 0.1)\n",
            "  CONTRAST_EM_MODE: 3D\n",
            "  CONTRAST_FACTOR: (-0.1, 0.1)\n",
            "  CONTRAST_MODE: 3D\n",
            "  COUT_APPLY_TO_MASK: False\n",
            "  COUT_CVAL: 0.0\n",
            "  COUT_NB_ITERATIONS: (1, 3)\n",
            "  COUT_SIZE: (0.05, 0.3)\n",
            "  CUTBLUR: False\n",
            "  CUTMIX: False\n",
            "  CUTNOISE: False\n",
            "  CUTOUT: False\n",
            "  DA_PROB: 0.5\n",
            "  DRAW_GRID: True\n",
            "  DROPOUT: False\n",
            "  DROP_RANGE: (0, 0.2)\n",
            "  ELASTIC: False\n",
            "  ENABLE: True\n",
            "  E_ALPHA: (12, 16)\n",
            "  E_MODE: constant\n",
            "  E_SIGMA: 4\n",
            "  GAMMA_CONTRAST: False\n",
            "  GAUSSIAN_NOISE: False\n",
            "  GAUSSIAN_NOISE_MEAN: 0.0\n",
            "  GAUSSIAN_NOISE_USE_INPUT_IMG_MEAN_AND_VAR: False\n",
            "  GAUSSIAN_NOISE_VAR: 0.05\n",
            "  GC_GAMMA: (1.25, 1.75)\n",
            "  GRAYSCALE: False\n",
            "  GRIDMASK: False\n",
            "  GRID_D_RANGE: (0.4, 1)\n",
            "  GRID_INVERT: False\n",
            "  GRID_RATIO: 0.6\n",
            "  GRID_ROTATE: 1.0\n",
            "  G_BLUR: False\n",
            "  G_SIGMA: (1.0, 2.0)\n",
            "  HFLIP: True\n",
            "  MB_KERNEL: (3, 7)\n",
            "  MEDIAN_BLUR: False\n",
            "  MISALIGNMENT: False\n",
            "  MISSING_SECTIONS: False\n",
            "  MISSP_ITERATIONS: (10, 30)\n",
            "  MOTB_K_RANGE: (8, 12)\n",
            "  MOTION_BLUR: False\n",
            "  MS_DISPLACEMENT: 16\n",
            "  MS_ROTATE_RATIO: 0.5\n",
            "  PEPPER: False\n",
            "  PEPPER_AMOUNT: 0.05\n",
            "  POISSON_NOISE: False\n",
            "  RANDOM_ROT: True\n",
            "  RANDOM_ROT_RANGE: (-180, 180)\n",
            "  ROT90: False\n",
            "  SALT: False\n",
            "  SALT_AMOUNT: 0.05\n",
            "  SALT_AND_PEPPER: False\n",
            "  SALT_AND_PEPPER_AMOUNT: 0.05\n",
            "  SALT_AND_PEPPER_PROP: 0.5\n",
            "  SHEAR: False\n",
            "  SHEAR_RANGE: (-20, 20)\n",
            "  SHIFT: False\n",
            "  SHIFT_RANGE: (0.1, 0.2)\n",
            "  SHUFFLE_TRAIN_DATA_EACH_EPOCH: True\n",
            "  SHUFFLE_VAL_DATA_EACH_EPOCH: False\n",
            "  VFLIP: True\n",
            "  ZFLIP: False\n",
            "  ZOOM: False\n",
            "  ZOOM_RANGE: (0.8, 1.2)\n",
            "DATA:\n",
            "  CHECK_GENERATORS: False\n",
            "  EXTRACT_RANDOM_PATCH: False\n",
            "  NORMALIZATION:\n",
            "    CUSTOM_MEAN: -1.0\n",
            "    CUSTOM_STD: -1.0\n",
            "    TYPE: div\n",
            "  PATCH_SIZE: (28, 28, 3)\n",
            "  PROBABILITY_MAP: False\n",
            "  REFLECT_TO_COMPLETE_SHAPE: False\n",
            "  TEST:\n",
            "    ARGMAX_TO_OUTPUT: False\n",
            "    BINARY_MASKS: /content/data/test/../bin_mask\n",
            "    CHECK_DATA: True\n",
            "    DETECTION_MASK_DIR: user_data/test/y_detection_masks\n",
            "    GT_PATH: user_data/test/y\n",
            "    INSTANCE_CHANNELS_DIR: /content/data/test_BC_thick\n",
            "    INSTANCE_CHANNELS_MASK_DIR: user_data/test/y_BC_thick\n",
            "    IN_MEMORY: False\n",
            "    LOAD_GT: False\n",
            "    MEDIAN_PADDING: False\n",
            "    OVERLAP: (0, 0)\n",
            "    PADDING: (3, 3)\n",
            "    PATH: /content/data/test\n",
            "    RESOLUTION: (1, 1)\n",
            "    SSL_SOURCE_DIR: /content/data/test_ssl_source\n",
            "    USE_VAL_AS_TEST: False\n",
            "  TRAIN:\n",
            "    CHECK_DATA: True\n",
            "    DETECTION_MASK_DIR: user_data/train/y_detection_masks\n",
            "    GT_PATH: user_data/train/y\n",
            "    INSTANCE_CHANNELS_DIR: /content/data/train_BC_thick\n",
            "    INSTANCE_CHANNELS_MASK_DIR: user_data/train/y_BC_thick\n",
            "    IN_MEMORY: True\n",
            "    MINIMUM_FOREGROUND_PER: -1.0\n",
            "    OVERLAP: (0, 0)\n",
            "    PADDING: (0, 0)\n",
            "    PATH: /content/data/train\n",
            "    REPLICATE: 0\n",
            "    RESOLUTION: (1, 1)\n",
            "    SSL_SOURCE_DIR: /content/data/train_ssl_source\n",
            "  VAL:\n",
            "    BINARY_MASKS: /content/data/validation/../bin_mask\n",
            "    CROSS_VAL: False\n",
            "    CROSS_VAL_FOLD: 1\n",
            "    CROSS_VAL_NFOLD: 5\n",
            "    DETECTION_MASK_DIR: user_data/val/y_detection_masks\n",
            "    FROM_TRAIN: False\n",
            "    GT_PATH: user_data/val/y\n",
            "    INSTANCE_CHANNELS_DIR: /content/data/validation_BC_thick\n",
            "    INSTANCE_CHANNELS_MASK_DIR: user_data/val/y_BC_thick\n",
            "    IN_MEMORY: True\n",
            "    OVERLAP: (0, 0)\n",
            "    PADDING: (0, 0)\n",
            "    PATH: /content/data/validation\n",
            "    RANDOM: True\n",
            "    RESOLUTION: (1, 1)\n",
            "    SPLIT_TRAIN: 0.1\n",
            "    SSL_SOURCE_DIR: /content/data/validation_ssl_source\n",
            "  W_BACKGROUND: 0.06\n",
            "  W_FOREGROUND: 0.94\n",
            "LOSS:\n",
            "  TYPE: CE\n",
            "MODEL:\n",
            "  ACTIVATION: elu\n",
            "  ARCHITECTURE: ViT\n",
            "  BATCH_NORMALIZATION: False\n",
            "  DROPOUT_VALUES: [0.0, 0.0, 0.0, 0.0, 0.0]\n",
            "  FEATURE_MAPS: [16, 32, 64, 128, 256]\n",
            "  KERNEL_INIT: he_normal\n",
            "  KERNEL_SIZE: 3\n",
            "  LAST_ACTIVATION: sigmoid\n",
            "  LOAD_CHECKPOINT: False\n",
            "  MAKE_PLOT: False\n",
            "  N_CLASSES: 7\n",
            "  SPATIAL_DROPOUT: True\n",
            "  TIRAMISU_DEPTH: 3\n",
            "  UNETR_DEC_ACTIVATION: relu\n",
            "  UNETR_DEC_KERNEL_INIT: he_normal\n",
            "  UNETR_VIT_HIDD_MULT: 3\n",
            "  UNETR_VIT_NUM_FILTERS: 16\n",
            "  UPSAMPLE_LAYER: convtranspose\n",
            "  VIT_HIDDEN_SIZE: 768\n",
            "  VIT_MLP_DIMS: 3072\n",
            "  VIT_NUM_HEADS: 12\n",
            "  VIT_NUM_LAYERS: 12\n",
            "  VIT_TOKEN_SIZE: 16\n",
            "  Z_DOWN: [0, 0, 0, 0]\n",
            "PATHS:\n",
            "  CHARTS: /content/output/my_2d_classification_VIT/results/my_2d_classification_VIT_1/charts\n",
            "  CHECKPOINT: /content/output/my_2d_classification_VIT/checkpoints\n",
            "  CHECKPOINT_FILE: /content/output/my_2d_classification_VIT/checkpoints/model_weights_my_2d_classification_VIT_1.h5\n",
            "  DA_SAMPLES: /content/output/my_2d_classification_VIT/results/my_2d_classification_VIT_1/aug\n",
            "  GEN_CHECKS: /content/output/my_2d_classification_VIT/results/my_2d_classification_VIT_1/gen_check\n",
            "  GEN_MASK_CHECKS: /content/output/my_2d_classification_VIT/results/my_2d_classification_VIT_1/gen_mask_check\n",
            "  MEAN_INFO_FILE: /content/output/my_2d_classification_VIT/checkpoints/normalization_mean_value.npy\n",
            "  PROB_MAP_DIR: /content/output/my_2d_classification_VIT/prob_map\n",
            "  PROB_MAP_FILENAME: prob_map.npy\n",
            "  PROFILER: /content/output/my_2d_classification_VIT/results/my_2d_classification_VIT_1/profiler\n",
            "  RESULT_DIR:\n",
            "    AS_3D_STACK_POST_PROCESSING: /content/output/my_2d_classification_VIT/results/my_2d_classification_VIT_1/as_3d_stack_post_processing\n",
            "    DET_ASSOC_POINTS: /content/output/my_2d_classification_VIT/results/my_2d_classification_VIT_1/point_associations\n",
            "    DET_LOCAL_MAX_COORDS_CHECK: /content/output/my_2d_classification_VIT/results/my_2d_classification_VIT_1/per_image_local_max_check\n",
            "    FULL_IMAGE: /content/output/my_2d_classification_VIT/results/my_2d_classification_VIT_1/full_image\n",
            "    FULL_IMAGE_BIN: /content/output/my_2d_classification_VIT/results/my_2d_classification_VIT_1/full_image_binarized\n",
            "    INST_ASSOC_POINTS: /content/output/my_2d_classification_VIT/results/my_2d_classification_VIT_1/instance_associations\n",
            "    PATH: /content/output/my_2d_classification_VIT/results/my_2d_classification_VIT_1\n",
            "    PER_IMAGE: /content/output/my_2d_classification_VIT/results/my_2d_classification_VIT_1/per_image\n",
            "    PER_IMAGE_BIN: /content/output/my_2d_classification_VIT/results/my_2d_classification_VIT_1/per_image_binarized\n",
            "    PER_IMAGE_INSTANCES: /content/output/my_2d_classification_VIT/results/my_2d_classification_VIT_1/per_image_instances\n",
            "    PER_IMAGE_POST_PROCESSING: /content/output/my_2d_classification_VIT/results/my_2d_classification_VIT_1/per_image_post_processing\n",
            "  STD_INFO_FILE: /content/output/my_2d_classification_VIT/checkpoints/normalization_std_value.npy\n",
            "  TEST_FULL_GT_H5: user_data/test/y/h5\n",
            "  TEST_INSTANCE_CHANNELS_CHECK: /content/output/my_2d_classification_VIT/results/my_2d_classification_VIT_1/test_BC_instance_channels\n",
            "  TRAIN_INSTANCE_CHANNELS_CHECK: /content/output/my_2d_classification_VIT/results/my_2d_classification_VIT_1/train_BC_instance_channels\n",
            "  VAL_INSTANCE_CHANNELS_CHECK: /content/output/my_2d_classification_VIT/results/my_2d_classification_VIT_1/val_BC_instance_channels\n",
            "  WATERSHED_DIR: /content/output/my_2d_classification_VIT/results/my_2d_classification_VIT_1/watershed\n",
            "PROBLEM:\n",
            "  DENOISING:\n",
            "    N2V_MANIPULATOR: uniform_withCP\n",
            "    N2V_NEIGHBORHOOD_RADIUS: 5\n",
            "    N2V_PERC_PIX: 0.198\n",
            "    N2V_STRUCTMASK: False\n",
            "  DETECTION:\n",
            "    CENTRAL_POINT_DILATION: 3\n",
            "    CHECK_POINTS_CREATED: True\n",
            "    DATA_CHECK_MW: True\n",
            "  INSTANCE_SEG:\n",
            "    DATA_CHANNELS: BC\n",
            "    DATA_CHANNEL_WEIGHTS: (1, 1)\n",
            "    DATA_CHECK_MW: True\n",
            "    DATA_CONTOUR_MODE: thick\n",
            "    DATA_MW_OPTIMIZE_THS: False\n",
            "    DATA_MW_TH_BINARY_MASK: 0.5\n",
            "    DATA_MW_TH_CONTOUR: 0.1\n",
            "    DATA_MW_TH_DISTANCE: 2.0\n",
            "    DATA_MW_TH_DIST_FOREGROUND: 1.2\n",
            "    DATA_MW_TH_FOREGROUND: 0.3\n",
            "    DATA_MW_TH_POINTS: 0.5\n",
            "    DATA_REMOVE_AFTER_MW: False\n",
            "    DATA_REMOVE_BEFORE_MW: False\n",
            "    DATA_REMOVE_SMALL_OBJ_AFTER: 100\n",
            "    DATA_REMOVE_SMALL_OBJ_BEFORE: 10\n",
            "    ERODE_AND_DILATE_FOREGROUND: False\n",
            "    FORE_DILATION_RADIUS: 5\n",
            "    FORE_EROSION_RADIUS: 5\n",
            "    SEED_MORPH_RADIUS: []\n",
            "    SEED_MORPH_SEQUENCE: []\n",
            "  NDIM: 2D\n",
            "  SELF_SUPERVISED:\n",
            "    NOISE: 0.2\n",
            "    PRETEXT_TASK: crappify\n",
            "    RESIZING_FACTOR: 4\n",
            "  SUPER_RESOLUTION:\n",
            "    UPSCALING: 1\n",
            "  TYPE: CLASSIFICATION\n",
            "SYSTEM:\n",
            "  NUM_CPUS: -1\n",
            "  SEED: 0\n",
            "TEST:\n",
            "  ANALIZE_2D_IMGS_AS_3D_STACK: False\n",
            "  AUGMENTATION: False\n",
            "  DET_LOCAL_MAX_COORDS: False\n",
            "  DET_MIN_TH_TO_BE_PEAK: [0.2]\n",
            "  DET_TOLERANCE: [10]\n",
            "  ENABLE: True\n",
            "  EVALUATE: True\n",
            "  MATCHING_SEGCOMPARE: False\n",
            "  MATCHING_STATS: True\n",
            "  MATCHING_STATS_THS: [0.3, 0.5, 0.75]\n",
            "  MATCHING_STATS_THS_COLORED_IMG: [0.3]\n",
            "  POST_PROCESSING:\n",
            "    APPLY_MASK: False\n",
            "    DET_WATERSHED: False\n",
            "    DET_WATERSHED_DONUTS_CLASSES: [-1]\n",
            "    DET_WATERSHED_DONUTS_NUCLEUS_DIAMETER: 30\n",
            "    DET_WATERSHED_DONUTS_PATCH: [13, 120, 120]\n",
            "    DET_WATERSHED_FIRST_DILATION: [[-1, -1]]\n",
            "    REMOVE_CLOSE_POINTS: False\n",
            "    REMOVE_CLOSE_POINTS_RADIUS: [-1.0]\n",
            "    REPARE_LARGE_BLOBS_SIZE: -1\n",
            "    VORONOI_ON_MASK: False\n",
            "    VORONOI_TH: 0.0\n",
            "    WATERSHED_CIRCULARITY: -1.0\n",
            "    YZ_FILTERING: False\n",
            "    YZ_FILTERING_SIZE: 5\n",
            "    Z_FILTERING: False\n",
            "    Z_FILTERING_SIZE: 5\n",
            "  REDUCE_MEMORY: False\n",
            "  STATS:\n",
            "    FULL_IMG: True\n",
            "    MERGE_PATCHES: False\n",
            "    PER_PATCH: False\n",
            "  VERBOSE: True\n",
            "TRAIN:\n",
            "  BATCH_SIZE: 12\n",
            "  CHECKPOINT_MONITOR: val_loss\n",
            "  EARLYSTOPPING_MONITOR: val_loss\n",
            "  ENABLE: True\n",
            "  EPOCHS: 10\n",
            "  LR: 0.001\n",
            "  LR_SCHEDULER:\n",
            "    MIN_LR: -1.0\n",
            "    NAME: \n",
            "    REDUCEONPLATEAU_FACTOR: 0.5\n",
            "    REDUCEONPLATEAU_PATIENCE: -1\n",
            "    WARMUP_COSINE_DECAY_EPOCHS: -1\n",
            "    WARMUP_COSINE_DECAY_HOLD_EPOCHS: -1\n",
            "    WARMUP_COSINE_DECAY_LR: -1.0\n",
            "  OPTIMIZER: ADAMW\n",
            "  PATIENCE: 6\n",
            "  PROFILER: False\n",
            "  PROFILER_BATCH_RANGE: 10, 100\n",
            "  W_DECAY: 0.004\n",
            "####################\n",
            "#  PRE-PROCESSING  #\n",
            "####################\n",
            "\n",
            "#################\n",
            "#   LOAD DATA   #\n",
            "#################\n",
            "\n",
            "### LOAD ###\n",
            "*** Loaded train data shape is: (7007, 28, 28, 3)\n",
            "*** Loaded validation data shape is: (1003, 28, 28, 3)\n",
            "### END LOAD ###\n",
            "### LOAD ###\n",
            "*** Loaded test data shape is: (2005, 28, 28, 3)\n",
            "########################\n",
            "#  PREPARE GENERATORS  #\n",
            "########################\n",
            "\n",
            "Initializing train data generator . . .\n",
            "Training data normalization - min: 0.0 , max: 1.0 , mean: 0.6208629012107849\n",
            "Initializing val data generator . . .\n",
            "Training data normalization - min: 0.0 , max: 1.0 , mean: 0.6247618198394775\n",
            "Creating generator samples . . .\n",
            "0) Creating the examples of data augmentation . . .\n",
            "  0% 0/10 [00:00<?, ?it/s]\n",
            "  0% 0/1 [00:00<?, ?it/s]\u001b[A\n",
            "                         \u001b[A\n",
            "  0% 0/1 [00:00<?, ?it/s]\u001b[A\n",
            "                         \u001b[A\n",
            "  0% 0/1 [00:00<?, ?it/s]\u001b[A\n",
            "                         \u001b[A\n",
            "  0% 0/1 [00:00<?, ?it/s]\u001b[A\n",
            "                         \u001b[A\n",
            "  0% 0/1 [00:00<?, ?it/s]\u001b[A\n",
            "                         \u001b[A\n",
            "  0% 0/1 [00:00<?, ?it/s]\u001b[A\n",
            "                         \u001b[A\n",
            "  0% 0/1 [00:00<?, ?it/s]\u001b[A\n",
            "                         \u001b[A\n",
            "  0% 0/1 [00:00<?, ?it/s]\u001b[A\n",
            "                         \u001b[A\n",
            "  0% 0/1 [00:00<?, ?it/s]\u001b[A\n",
            "                         \u001b[A\n",
            "  0% 0/1 [00:00<?, ?it/s]\u001b[A\n",
            "                         \u001b[A\n",
            "  0% 0/1 [00:00<?, ?it/s]\u001b[A\n",
            "                         \u001b[A\n",
            "  0% 0/1 [00:00<?, ?it/s]\u001b[A\n",
            "                         \u001b[A\n",
            "  0% 0/1 [00:00<?, ?it/s]\u001b[A\n",
            "                         \u001b[A\n",
            "  0% 0/1 [00:00<?, ?it/s]\u001b[A\n",
            " 70% 7/10 [00:00<00:00, 54.15it/s]\n",
            "  0% 0/1 [00:00<?, ?it/s]\u001b[A\n",
            "                         \u001b[A\n",
            "  0% 0/1 [00:00<?, ?it/s]\u001b[A\n",
            "                         \u001b[A\n",
            "  0% 0/1 [00:00<?, ?it/s]\u001b[A\n",
            "                         \u001b[A\n",
            "  0% 0/1 [00:00<?, ?it/s]\u001b[A\n",
            "                         \u001b[A\n",
            "  0% 0/1 [00:00<?, ?it/s]\u001b[A\n",
            "                         \u001b[A\n",
            "  0% 0/1 [00:00<?, ?it/s]\u001b[A\n",
            "100% 10/10 [00:00<00:00, 47.53it/s]\n",
            "### END TR-SAMPLES ###\n",
            "#################\n",
            "#  BUILD MODEL  #\n",
            "#################\n",
            "\n",
            "Model: \"model\"\n",
            "______________________________________________________________________________________________________________________________________________________\n",
            " Layer (type)                                                      Output Shape                                                Param #                \n",
            "======================================================================================================================================================\n",
            " input_1 (InputLayer)                                              [(None, 28, 28, 3)]                                         0                      \n",
            "                                                                                                                                                      \n",
            " patches (Patches)                                                 (None, None, 768)                                           0                      \n",
            "                                                                                                                                                      \n",
            " patch_encoder (PatchEncoder)                                      (None, None, 768)                                           591360                 \n",
            "                                                                                                                                                      \n",
            " class_token (ClassToken)                                          (None, None, 768)                                           768                    \n",
            "                                                                                                                                                      \n",
            " Transformer/encoderblock_0 (TransformerBlock)                     ((None, None, 768),                                         7087872                \n",
            "                                                                    (None, 12, None, None))                                                           \n",
            "                                                                                                                                                      \n",
            " Transformer/encoderblock_1 (TransformerBlock)                     ((None, None, 768),                                         7087872                \n",
            "                                                                    (None, 12, None, None))                                                           \n",
            "                                                                                                                                                      \n",
            " Transformer/encoderblock_2 (TransformerBlock)                     ((None, None, 768),                                         7087872                \n",
            "                                                                    (None, 12, None, None))                                                           \n",
            "                                                                                                                                                      \n",
            " Transformer/encoderblock_3 (TransformerBlock)                     ((None, None, 768),                                         7087872                \n",
            "                                                                    (None, 12, None, None))                                                           \n",
            "                                                                                                                                                      \n",
            " Transformer/encoderblock_4 (TransformerBlock)                     ((None, None, 768),                                         7087872                \n",
            "                                                                    (None, 12, None, None))                                                           \n",
            "                                                                                                                                                      \n",
            " Transformer/encoderblock_5 (TransformerBlock)                     ((None, None, 768),                                         7087872                \n",
            "                                                                    (None, 12, None, None))                                                           \n",
            "                                                                                                                                                      \n",
            " Transformer/encoderblock_6 (TransformerBlock)                     ((None, None, 768),                                         7087872                \n",
            "                                                                    (None, 12, None, None))                                                           \n",
            "                                                                                                                                                      \n",
            " Transformer/encoderblock_7 (TransformerBlock)                     ((None, None, 768),                                         7087872                \n",
            "                                                                    (None, 12, None, None))                                                           \n",
            "                                                                                                                                                      \n",
            " Transformer/encoderblock_8 (TransformerBlock)                     ((None, None, 768),                                         7087872                \n",
            "                                                                    (None, 12, None, None))                                                           \n",
            "                                                                                                                                                      \n",
            " Transformer/encoderblock_9 (TransformerBlock)                     ((None, None, 768),                                         7087872                \n",
            "                                                                    (None, 12, None, None))                                                           \n",
            "                                                                                                                                                      \n",
            " Transformer/encoderblock_10 (TransformerBlock)                    ((None, None, 768),                                         7087872                \n",
            "                                                                    (None, 12, None, None))                                                           \n",
            "                                                                                                                                                      \n",
            " Transformer/encoderblock_11 (TransformerBlock)                    ((None, None, 768),                                         7087872                \n",
            "                                                                    (None, 12, None, None))                                                           \n",
            "                                                                                                                                                      \n",
            " layer_normalization (LayerNormalization)                          (None, None, 768)                                           1536                   \n",
            "                                                                                                                                                      \n",
            " ExtractToken (Lambda)                                             (None, 768)                                                 0                      \n",
            "                                                                                                                                                      \n",
            " head (Dense)                                                      (None, 7)                                                   5383                   \n",
            "                                                                                                                                                      \n",
            "======================================================================================================================================================\n",
            "Total params: 85,653,511\n",
            "Trainable params: 85,653,511\n",
            "Non-trainable params: 0\n",
            "______________________________________________________________________________________________________________________________________________________\n",
            "#####################\n",
            "#  TRAIN THE MODEL  #\n",
            "#####################\n",
            "\n",
            "Epoch 1/10\n",
            "430/584 [=====================>........] - ETA: 3:32 - loss: 2.1831 - accuracy: 0.5084 - top-5-accuracy: 0.9227"
          ]
        }
      ],
      "source": [
        "#@markdown ##Play to train the model\n",
        "\n",
        "import os\n",
        "import errno\n",
        "\n",
        "# Run the code\n",
        "os.chdir('/content/BiaPy')\n",
        "!python -u main.py --config '/content/'{job_name}'.yaml' --result_dir {output_path} --name {job_name} --run_id 1 --gpu 0\n",
        "\n"
      ]
    },
    {
      "cell_type": "markdown",
      "source": [
        "## Inspection of the loss function and the Accuracy\n",
        "---\n",
        "\n",
        "First, it is good practice to evaluate the training progress by comparing the training loss with the validation loss. The latter is a metric which shows how well the network performs on a subset of unseen data which is set aside from the training dataset. For more information on this, see for example [this review](https://www.ncbi.nlm.nih.gov/pmc/articles/PMC6381354/) by Nichols *et al.*\n",
        "\n",
        "**Training loss** describes an error value after each epoch for the difference between the model's prediction and its ground-truth target.\n",
        "\n",
        "**Validation loss** describes the same error value between the model's prediction on a validation image and compared to it's target.\n",
        "\n",
        "During training both values should decrease before reaching a minimal value which does not decrease further even after more training. Comparing the development of the validation loss with the training loss can give insights into the model's performance.\n",
        "\n",
        "Decreasing **Training loss** and **Validation loss** indicates that training is still necessary and increasing the `number_of_epochs` is recommended. Note that the curves can look flat towards the right side, just because of the y-axis scaling. The network has reached convergence once the curves flatten out. After this point no further training is required. If the **Validation loss** suddenly increases again an the **Training loss** simultaneously goes towards zero, it means that the network is overfitting to the training data. In other words the network is remembering the exact patterns from the training data and no longer generalizes well to unseen data. In this case the training dataset has to be increased.\n",
        "\n",
        "The **accuracy** metric is is a metric that generally describes how the model performs across all classes comparing the target class and your prediction output. **Therefore, the closer to 1, the better the performance.**"
      ],
      "metadata": {
        "id": "k4i0N2vOWUes"
      }
    },
    {
      "cell_type": "code",
      "source": [
        "#@markdown ##Play the cell to show a plot of training error vs. epoch number and accuracy vs epoch number\n",
        "import matplotlib.pyplot as plt\n",
        "\n",
        "loss_plot = imread( output_path + '/'+job_name+'/results/'+job_name+'_1/charts/'+job_name+'_1_loss.png' )\n",
        "\n",
        "iou_plot = imread( output_path + '/'+job_name+'/results/'+job_name+'_1/charts/'+job_name+'_1_accuracy.png' )\n",
        "\n",
        "fig = plt.figure( figsize = (20,10))\n",
        "ax1 = plt.subplot( 1, 2, 1 )\n",
        "_ = plt.imshow( loss_plot )\n",
        "_ = plt.axis('off')\n",
        "ax1.set_title( 'Training error vs epoch number', fontdict = {'fontsize':22})\n",
        "\n",
        "ax2 = plt.subplot( 1, 2, 2 )\n",
        "_ = plt.imshow( iou_plot )\n",
        "_ = plt.axis('off')\n",
        "_= ax2.set_title( 'Accuracy vs epoch number', fontdict = {'fontsize':22})"
      ],
      "metadata": {
        "colab": {
          "base_uri": "https://localhost:8080/",
          "height": 501
        },
        "id": "ur21krhZVwX2",
        "outputId": "cd8bf700-33e3-4c08-e1a9-adb454c42f81"
      },
      "execution_count": 54,
      "outputs": [
        {
          "output_type": "display_data",
          "data": {
            "text/plain": [
              "<Figure size 2000x1000 with 2 Axes>"
            ],
            "image/png": "[encoded data removed]"
          },
          "metadata": {}
        }
      ]
    },
    {
      "cell_type": "code",
      "source": [
        "#@markdown ###Play to display the path to the output CSV file\n",
        "\n",
        "final_results = os.path.join(output_path, job_name, 'results', job_name+\"_1\")\n",
        "\n",
        "class_results = os.path.join(final_results, \"predictions.csv\")\n",
        "\n",
        "print(\"Output paths:\")\n",
        "print(\"    Predicted test classes are in {}\".format(class_results))"
      ],
      "metadata": {
        "id": "mlQnAH6uAawl",
        "cellView": "form",
        "colab": {
          "base_uri": "https://localhost:8080/"
        },
        "outputId": "4eff684a-cfa7-4384-fb53-a460af7a096a"
      },
      "execution_count": null,
      "outputs": [
        {
          "output_type": "stream",
          "name": "stdout",
          "text": [
            "Output paths:\n",
            "    Predicted test classes are in /content/output/my_2d_classification_am/results/my_2d_classification_am_1/predictions.csv\n"
          ]
        }
      ]
    },
    {
      "cell_type": "markdown",
      "source": [
        "## **Download classification results**"
      ],
      "metadata": {
        "id": "zdCIYo4ohcAw"
      }
    },
    {
      "cell_type": "code",
      "source": [
        "#@markdown ###Play to download the CSV file with all classification results in test.\n",
        "\n",
        "from google.colab import files\n",
        "\n",
        "files.download(class_results)\n"
      ],
      "metadata": {
        "cellView": "form",
        "id": "gnRa9DOUP0FM",
        "colab": {
          "base_uri": "https://localhost:8080/",
          "height": 17
        },
        "outputId": "19ea9a97-d9f6-4a01-aed1-abcc6d1fcbcf"
      },
      "execution_count": null,
      "outputs": [
        {
          "output_type": "display_data",
          "data": {
            "text/plain": [
              "<IPython.core.display.Javascript object>"
            ],
            "application/javascript": [
              "\n",
              "    async function download(id, filename, size) {\n",
              "      if (!google.colab.kernel.accessAllowed) {\n",
              "        return;\n",
              "      }\n",
              "      const div = document.createElement('div');\n",
              "      const label = document.createElement('label');\n",
              "      label.textContent = `Downloading \"${filename}\": `;\n",
              "      div.appendChild(label);\n",
              "      const progress = document.createElement('progress');\n",
              "      progress.max = size;\n",
              "      div.appendChild(progress);\n",
              "      document.body.appendChild(div);\n",
              "\n",
              "      const buffers = [];\n",
              "      let downloaded = 0;\n",
              "\n",
              "      const channel = await google.colab.kernel.comms.open(id);\n",
              "      // Send a message to notify the kernel that we're ready.\n",
              "      channel.send({})\n",
              "\n",
              "      for await (const message of channel.messages) {\n",
              "        // Send a message to notify the kernel that we're ready.\n",
              "        channel.send({})\n",
              "        if (message.buffers) {\n",
              "          for (const buffer of message.buffers) {\n",
              "            buffers.push(buffer);\n",
              "            downloaded += buffer.byteLength;\n",
              "            progress.value = downloaded;\n",
              "          }\n",
              "        }\n",
              "      }\n",
              "      const blob = new Blob(buffers, {type: 'application/binary'});\n",
              "      const a = document.createElement('a');\n",
              "      a.href = window.URL.createObjectURL(blob);\n",
              "      a.download = filename;\n",
              "      div.appendChild(a);\n",
              "      a.click();\n",
              "      div.remove();\n",
              "    }\n",
              "  "
            ]
          },
          "metadata": {}
        },
        {
          "output_type": "display_data",
          "data": {
            "text/plain": [
              "<IPython.core.display.Javascript object>"
            ],
            "application/javascript": [
              "download(\"download_f5f5b416-fbbd-4201-83f7-98d81b537964\", \"predictions.csv\", 32990)"
            ]
          },
          "metadata": {}
        }
      ]
    },
    {
      "cell_type": "markdown",
      "source": [
        "## **Download train model (weights and configuration file)**\n",
        "If you want to **reuse the train model in the future**, you can download both the model weights and its configuration file (.YAML) by running the following cells."
      ],
      "metadata": {
        "id": "Kwt72WYddVgl"
      }
    },
    {
      "cell_type": "code",
      "source": [
        "#@markdown ###Play to download the model weights\n",
        "\n",
        "checkpoints_path = os.path.join(output_path, job_name, 'checkpoints')\n",
        "\n",
        "weights_filename = 'model_weights_' + str( job_name ) + '_1.h5'\n",
        "\n",
        "files.download( os.path.join( checkpoints_path, weights_filename))"
      ],
      "metadata": {
        "cellView": "form",
        "id": "XoFclBfEduZC",
        "colab": {
          "base_uri": "https://localhost:8080/",
          "height": 17
        },
        "outputId": "f71bdb29-027e-490c-e67a-01f3210370d3"
      },
      "execution_count": null,
      "outputs": [
        {
          "output_type": "display_data",
          "data": {
            "text/plain": [
              "<IPython.core.display.Javascript object>"
            ],
            "application/javascript": [
              "\n",
              "    async function download(id, filename, size) {\n",
              "      if (!google.colab.kernel.accessAllowed) {\n",
              "        return;\n",
              "      }\n",
              "      const div = document.createElement('div');\n",
              "      const label = document.createElement('label');\n",
              "      label.textContent = `Downloading \"${filename}\": `;\n",
              "      div.appendChild(label);\n",
              "      const progress = document.createElement('progress');\n",
              "      progress.max = size;\n",
              "      div.appendChild(progress);\n",
              "      document.body.appendChild(div);\n",
              "\n",
              "      const buffers = [];\n",
              "      let downloaded = 0;\n",
              "\n",
              "      const channel = await google.colab.kernel.comms.open(id);\n",
              "      // Send a message to notify the kernel that we're ready.\n",
              "      channel.send({})\n",
              "\n",
              "      for await (const message of channel.messages) {\n",
              "        // Send a message to notify the kernel that we're ready.\n",
              "        channel.send({})\n",
              "        if (message.buffers) {\n",
              "          for (const buffer of message.buffers) {\n",
              "            buffers.push(buffer);\n",
              "            downloaded += buffer.byteLength;\n",
              "            progress.value = downloaded;\n",
              "          }\n",
              "        }\n",
              "      }\n",
              "      const blob = new Blob(buffers, {type: 'application/binary'});\n",
              "      const a = document.createElement('a');\n",
              "      a.href = window.URL.createObjectURL(blob);\n",
              "      a.download = filename;\n",
              "      div.appendChild(a);\n",
              "      a.click();\n",
              "      div.remove();\n",
              "    }\n",
              "  "
            ]
          },
          "metadata": {}
        },
        {
          "output_type": "display_data",
          "data": {
            "text/plain": [
              "<IPython.core.display.Javascript object>"
            ],
            "application/javascript": [
              "download(\"download_a43b383a-8393-475e-b387-cb1cf6aa22f2\", \"model_weights_my_2d_classification_1.h5\", 1851248)"
            ]
          },
          "metadata": {}
        }
      ]
    },
    {
      "cell_type": "code",
      "source": [
        "#@markdown ###Play to download the model configuration file (.YAML)\n",
        "\n",
        "config_path = os.path.join(output_path, job_name, 'config_files')\n",
        "\n",
        "files.download( os.path.join( config_path, yaml_file))"
      ],
      "metadata": {
        "cellView": "form",
        "id": "raDdSsz1dujE",
        "colab": {
          "base_uri": "https://localhost:8080/",
          "height": 17
        },
        "outputId": "f3f67967-39d0-4716-ec67-b49563a43ebe"
      },
      "execution_count": null,
      "outputs": [
        {
          "output_type": "display_data",
          "data": {
            "text/plain": [
              "<IPython.core.display.Javascript object>"
            ],
            "application/javascript": [
              "\n",
              "    async function download(id, filename, size) {\n",
              "      if (!google.colab.kernel.accessAllowed) {\n",
              "        return;\n",
              "      }\n",
              "      const div = document.createElement('div');\n",
              "      const label = document.createElement('label');\n",
              "      label.textContent = `Downloading \"${filename}\": `;\n",
              "      div.appendChild(label);\n",
              "      const progress = document.createElement('progress');\n",
              "      progress.max = size;\n",
              "      div.appendChild(progress);\n",
              "      document.body.appendChild(div);\n",
              "\n",
              "      const buffers = [];\n",
              "      let downloaded = 0;\n",
              "\n",
              "      const channel = await google.colab.kernel.comms.open(id);\n",
              "      // Send a message to notify the kernel that we're ready.\n",
              "      channel.send({})\n",
              "\n",
              "      for await (const message of channel.messages) {\n",
              "        // Send a message to notify the kernel that we're ready.\n",
              "        channel.send({})\n",
              "        if (message.buffers) {\n",
              "          for (const buffer of message.buffers) {\n",
              "            buffers.push(buffer);\n",
              "            downloaded += buffer.byteLength;\n",
              "            progress.value = downloaded;\n",
              "          }\n",
              "        }\n",
              "      }\n",
              "      const blob = new Blob(buffers, {type: 'application/binary'});\n",
              "      const a = document.createElement('a');\n",
              "      a.href = window.URL.createObjectURL(blob);\n",
              "      a.download = filename;\n",
              "      div.appendChild(a);\n",
              "      a.click();\n",
              "      div.remove();\n",
              "    }\n",
              "  "
            ]
          },
          "metadata": {}
        },
        {
          "output_type": "display_data",
          "data": {
            "text/plain": [
              "<IPython.core.display.Javascript object>"
            ],
            "application/javascript": [
              "download(\"download_0cbe17ee-551b-4903-8f3f-acae03af48bd\", \"my_2d_classification.yaml\", 630)"
            ]
          },
          "metadata": {}
        }
      ]
    },
    {
      "cell_type": "markdown",
      "source": [
        "## **Acknowledgments**\n",
        "We would like to acknowledge the inspiration provided by the excellent [ZeroCostDL4Mic notebooks](https://github.com/HenriquesLab/ZeroCostDL4Mic/wiki). In particular, we have reused some of their descriptions of metrics and parameters."
      ],
      "metadata": {
        "id": "vjSgLwe0x-P0"
      }
    }
  ],
  "metadata": {
    "accelerator": "GPU",
    "colab": {
      "provenance": [],
      "gpuType": "T4"
    },
    "kernelspec": {
      "display_name": "Python 3",
      "name": "python3"
    }
  },
  "nbformat": 4,
  "nbformat_minor": 0
}